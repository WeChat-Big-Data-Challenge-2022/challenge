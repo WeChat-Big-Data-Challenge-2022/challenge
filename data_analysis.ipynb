{
 "cells": [
  {
   "cell_type": "code",
   "execution_count": 4,
   "id": "62e0acc9-0394-49fe-9fac-71f5c323ee5e",
   "metadata": {},
   "outputs": [],
   "source": [
    "import pandas\n",
    "import numpy\n",
    "import json\n",
    "from category_id_map import category_id_to_lv2id\n",
    "\n",
    "label_dir = f\"../data/annotations/labeled.json\"\n",
    "test_dir = f\"../data/annotations/test_a.json\"\n",
    "unlabel_dir = f\"../data/annotations/unlabeled.json\""
   ]
  },
  {
   "cell_type": "code",
   "execution_count": 6,
   "id": "a77bb091-b355-4133-8b33-6025a30a5617",
   "metadata": {},
   "outputs": [],
   "source": [
    "with open(label_dir, 'r') as file:\n",
    "    train = json.load(file)\n",
    "with open(test_dir, 'r') as file:\n",
    "    test = json.load(file)\n",
    "with open(unlabel_dir, 'r') as file:\n",
    "    unuse = json.load(file)"
   ]
  },
  {
   "cell_type": "code",
   "execution_count": 8,
   "id": "86fc34e3-871b-4226-83d3-8611a14ab88a",
   "metadata": {},
   "outputs": [
    {
     "data": {
      "text/plain": [
       "{'id': '13477278056527828998',\n",
       " 'category_id': '1203',\n",
       " 'title': '管嘴管心，祸少福多;#国学禅语',\n",
       " 'asr': '人多时管住嘴多错多是非多自找麻烦，人少时管住心。妄念多痛苦多，自寻烦恼。群处守住嘴，独处守住心。修己以清心为要，涉世以慎言为先。我是大悲关注我每天陪你保持好心态。',\n",
       " 'ocr': [{'time': 0, 'text': '管嘴管心祸少福多人多时,管住嘴'}]}"
      ]
     },
     "execution_count": 8,
     "metadata": {},
     "output_type": "execute_result"
    }
   ],
   "source": [
    "train[0]"
   ]
  },
  {
   "cell_type": "code",
   "execution_count": 13,
   "id": "cecf837d-adee-4381-bdc9-bc4edaa361fe",
   "metadata": {},
   "outputs": [
    {
     "name": "stdout",
     "output_type": "stream",
     "text": [
      "train numbers: 100000\n",
      "test numbers: 25000\n",
      "unuse numbers: 1000000\n"
     ]
    }
   ],
   "source": [
    "print(f\"train numbers: {len(train)}\")\n",
    "print(f\"test numbers: {len(test)}\")\n",
    "print(f\"unuse numbers: {len(unuse)}\")"
   ]
  },
  {
   "cell_type": "code",
   "execution_count": 14,
   "id": "ee5ef1ee-4491-40f3-8631-e5f511653adf",
   "metadata": {},
   "outputs": [],
   "source": [
    "train_category = [category_id_to_lv2id(item['category_id']) for item in train]"
   ]
  },
  {
   "cell_type": "code",
   "execution_count": 15,
   "id": "1993f690-e121-470e-ada9-65503b9273a8",
   "metadata": {},
   "outputs": [],
   "source": [
    "import pandas as pd\n"
   ]
  },
  {
   "cell_type": "code",
   "execution_count": 16,
   "id": "4245fa53-c05c-4f8c-80d7-b7d126ba16b1",
   "metadata": {},
   "outputs": [],
   "source": [
    "train_df = pd.Series(train_category)"
   ]
  },
  {
   "cell_type": "code",
   "execution_count": 36,
   "id": "9b474cbb-af26-4c94-9e28-faea37435392",
   "metadata": {},
   "outputs": [
    {
     "data": {
      "text/plain": [
       "count      200.000000\n",
       "mean       500.000000\n",
       "std       1123.237796\n",
       "min         14.000000\n",
       "25%         68.250000\n",
       "50%        168.000000\n",
       "75%        448.500000\n",
       "max      10656.000000\n",
       "dtype: float64"
      ]
     },
     "execution_count": 36,
     "metadata": {},
     "output_type": "execute_result"
    }
   ],
   "source": [
    "train_df.value_counts().describe()"
   ]
  },
  {
   "cell_type": "code",
   "execution_count": 31,
   "id": "686a0a97-e987-4326-9b30-3b1faac88eba",
   "metadata": {},
   "outputs": [
    {
     "data": {
      "text/plain": [
       "200"
      ]
     },
     "execution_count": 31,
     "metadata": {},
     "output_type": "execute_result"
    }
   ],
   "source": [
    "x = list(train_df.value_counts().index)\n",
    "len(x)"
   ]
  },
  {
   "cell_type": "code",
   "execution_count": 33,
   "id": "b554f55b-7a3a-4cf8-84b9-a31d76e51aa7",
   "metadata": {},
   "outputs": [
    {
     "data": {
      "text/plain": [
       "200"
      ]
     },
     "execution_count": 33,
     "metadata": {},
     "output_type": "execute_result"
    }
   ],
   "source": [
    "y = list(train_df.value_counts())\n",
    "len(y)"
   ]
  },
  {
   "cell_type": "code",
   "execution_count": 40,
   "id": "2139bb3a-4755-4148-a60a-dbe4e52153ff",
   "metadata": {},
   "outputs": [
    {
     "data": {
      "image/png": "[encoded data removed]",
      "text/plain": [
       "<Figure size 432x288 with 1 Axes>"
      ]
     },
     "metadata": {
      "needs_background": "light"
     },
     "output_type": "display_data"
    }
   ],
   "source": [
    "import matplotlib.pyplot as plt\n",
    "plt.bar([i for i in range(len(y))], y)\n",
    "plt.show()"
   ]
  },
  {
   "cell_type": "code",
   "execution_count": 41,
   "id": "86d082e4-10cb-462e-a4db-1443d6e1e568",
   "metadata": {},
   "outputs": [
    {
     "name": "stdout",
     "output_type": "stream",
     "text": [
      "13类占了一半的数据\n"
     ]
    }
   ],
   "source": [
    "total = sum(y)\n",
    "nums = 0\n",
    "for i, num in enumerate(y):\n",
    "    if (nums / total > 0.5):\n",
    "        print(f\"{i}类占了一半的数据\")\n",
    "        break\n",
    "    nums += num "
   ]
  },
  {
   "cell_type": "code",
   "execution_count": 48,
   "id": "1a134f4b-c87e-4b1d-a5d4-0e4efe18ebdd",
   "metadata": {},
   "outputs": [
    {
     "data": {
      "text/plain": [
       "[10.656,\n",
       " 6.117,\n",
       " 5.313,\n",
       " 4.7,\n",
       " 4.324999999999999,\n",
       " 3.2969999999999997,\n",
       " 3.2329999999999997,\n",
       " 2.971,\n",
       " 2.919,\n",
       " 2.186,\n",
       " 2.17,\n",
       " 1.944,\n",
       " 1.5310000000000001,\n",
       " 1.477,\n",
       " 1.331,\n",
       " 0.038,\n",
       " 0.036000000000000004,\n",
       " 0.036000000000000004,\n",
       " 0.034999999999999996,\n",
       " 0.033,\n",
       " 0.032,\n",
       " 0.031,\n",
       " 0.031,\n",
       " 0.03,\n",
       " 0.03,\n",
       " 0.027,\n",
       " 0.025,\n",
       " 0.024,\n",
       " 0.02,\n",
       " 0.013999999999999999]"
      ]
     },
     "execution_count": 48,
     "metadata": {},
     "output_type": "execute_result"
    }
   ],
   "source": [
    "y1 = [100*(i / total) for i in y]\n",
    "y1[:15] + y1[-15:]"
   ]
  },
  {
   "cell_type": "code",
   "execution_count": null,
   "id": "ac07453b-4f6b-4458-94e1-d078e0ec3d48",
   "metadata": {},
   "outputs": [],
   "source": [
    "|"
   ]
  }
 ],
 "metadata": {
  "kernelspec": {
   "display_name": "Python 3 (ipykernel)",
   "language": "python",
   "name": "python3"
  },
  "language_info": {
   "codemirror_mode": {
    "name": "ipython",
    "version": 3
   },
   "file_extension": ".py",
   "mimetype": "text/x-python",
   "name": "python",
   "nbconvert_exporter": "python",
   "pygments_lexer": "ipython3",
   "version": "3.9.7"
  }
 },
 "nbformat": 4,
 "nbformat_minor": 5
}
